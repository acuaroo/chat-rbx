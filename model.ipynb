{
 "cells": [
  {
   "cell_type": "code",
   "execution_count": 1,
   "metadata": {},
   "outputs": [],
   "source": [
    "import pandas as pd\n",
    "import numpy as np\n",
    "import tensorflow as tf\n",
    "\n",
    "from tensorflow import keras\n",
    "from keras.preprocessing.text import Tokenizer\n",
    "from keras.models import Sequential\n",
    "from keras.layers import Dense, LayerNormalization, MultiHeadAttention, Dropout, GlobalAveragePooling1D, Input\n",
    "\n",
    "from keras_preprocessing.sequence import pad_sequences\n",
    "from tensorflow.keras.utils import to_categorical\n",
    "\n",
    "import matplotlib.pyplot as plt\n",
    "import itertools"
   ]
  },
  {
   "cell_type": "code",
   "execution_count": 2,
   "metadata": {},
   "outputs": [
    {
     "data": {
      "image/png": "[encoded data removed]",
      "text/plain": [
       "<Figure size 640x480 with 1 Axes>"
      ]
     },
     "metadata": {},
     "output_type": "display_data"
    },
    {
     "name": "stdout",
     "output_type": "stream",
     "text": [
      "count    13761.000000\n",
      "mean         3.640433\n",
      "std          2.278675\n",
      "min          1.000000\n",
      "25%          2.000000\n",
      "50%          3.000000\n",
      "75%          5.000000\n",
      "max         18.000000\n",
      "Name: 0, dtype: float64\n"
     ]
    }
   ],
   "source": [
    "# import the data, display histogram of the length of the sentences\n",
    "data = pd.read_csv('clean-data/clean-3-10-23.csv', header=None)\n",
    "data = data.iloc[:, 0]\n",
    "\n",
    "data.str.split().apply(len).hist(bins=20)\n",
    "plt.show()\n",
    "print(data.str.split().apply(len).describe())\n",
    "\n",
    "data = data.str.split().apply(lambda x: x).values"
   ]
  },
  {
   "cell_type": "code",
   "execution_count": 3,
   "metadata": {},
   "outputs": [
    {
     "name": "stdout",
     "output_type": "stream",
     "text": [
      "<class 'list'>\n",
      "['Open', 'lane!', 'Check', 'chat', 'logs', 'kick', 'her', 'fen', 'Some', 'lady']\n"
     ]
    }
   ],
   "source": [
    "tokens = data.tolist()\n",
    "tokens = list(itertools.chain.from_iterable(data))\n",
    "\n",
    "print(type(tokens))\n",
    "print(tokens[:10])"
   ]
  },
  {
   "cell_type": "code",
   "execution_count": 4,
   "metadata": {},
   "outputs": [
    {
     "name": "stdout",
     "output_type": "stream",
     "text": [
      "Open lane! Check chat logs\n",
      "lane! Check chat logs kick\n",
      "Check chat logs kick her\n",
      "chat logs kick her fen\n"
     ]
    }
   ],
   "source": [
    "given_words = 4\n",
    "guess_words = 1\n",
    "\n",
    "training_length = given_words + guess_words\n",
    "text_sequences = []\n",
    "\n",
    "for i in range(training_length, len(tokens)):\n",
    "    seq = tokens[i-training_length:i]\n",
    "    text_sequences.append(seq)\n",
    "\n",
    "for i in range(given_words):\n",
    "    print(' '.join(text_sequences[i]))\n",
    "\n",
    "tokenizer = Tokenizer()\n",
    "tokenizer.fit_on_texts(text_sequences)\n",
    "sequences = tokenizer.texts_to_sequences(text_sequences)\n",
    "\n",
    "# print(len(sequences[66]))"
   ]
  },
  {
   "cell_type": "code",
   "execution_count": 5,
   "metadata": {},
   "outputs": [
    {
     "name": "stdout",
     "output_type": "stream",
     "text": [
      "vocab size: 6371\n",
      "1 --> you\n",
      "2 --> to\n",
      "3 --> i\n",
      "4 --> me\n",
      "5 --> the\n",
      "6 --> fan\n",
      "7 --> donate\n",
      "8 --> u\n",
      "9 --> can\n",
      "10 --> my\n"
     ]
    }
   ],
   "source": [
    "i = 0\n",
    "\n",
    "vocabulary_size = len(tokenizer.word_counts) + 1\n",
    "print(f\"vocab size: {vocabulary_size}\")\n",
    "\n",
    "for a in tokenizer.index_word:\n",
    "    print(a, \"-->\", tokenizer.index_word[a])\n",
    "    i += 1\n",
    "\n",
    "    if i == 10: break "
   ]
  },
  {
   "cell_type": "code",
   "execution_count": 6,
   "metadata": {},
   "outputs": [
    {
     "name": "stdout",
     "output_type": "stream",
     "text": [
      "(50091, 5)\n"
     ]
    }
   ],
   "source": [
    "sequences = np.array(sequences)\n",
    "print(sequences.shape)"
   ]
  },
  {
   "cell_type": "code",
   "execution_count": 7,
   "metadata": {},
   "outputs": [
    {
     "name": "stdout",
     "output_type": "stream",
     "text": [
      "(50091, 4) (50091, 6371)\n",
      "4\n"
     ]
    }
   ],
   "source": [
    "train_data = sequences[:, :-guess_words]\n",
    "train_labels = sequences[:, -guess_words]\n",
    "\n",
    "randomize = np.arange(len(train_data))\n",
    "np.random.shuffle(randomize)\n",
    "\n",
    "train_data = train_data[randomize]\n",
    "train_labels = train_labels[randomize]\n",
    "\n",
    "train_labels = to_categorical(train_labels, num_classes=vocabulary_size)\n",
    "\n",
    "print(train_data.shape, train_labels.shape)\n",
    "\n",
    "sequence_len = train_data.shape[1]\n",
    "print(sequence_len)"
   ]
  },
  {
   "cell_type": "code",
   "execution_count": 8,
   "metadata": {},
   "outputs": [],
   "source": [
    "class TokenAndPositionEmbedding(keras.layers.Layer):\n",
    "    def __init__(self, maxlen, vocab_size, embed_dim):\n",
    "        super().__init__()\n",
    "        self.token_emb = keras.layers.Embedding(input_dim=vocab_size, output_dim=embed_dim)\n",
    "        self.pos_emb = keras.layers.Embedding(input_dim=maxlen, output_dim=embed_dim)\n",
    "\n",
    "    def call(self, x):\n",
    "        maxlen = tf.shape(x)[-1]\n",
    "        positions = tf.range(start=0, limit=maxlen, delta=1)\n",
    "        positions = self.pos_emb(positions)\n",
    "        x = self.token_emb(x)\n",
    "        return x + positions\n",
    "\n",
    "class Transformer(keras.layers.Layer):\n",
    "    def __init__(self, embed_dim, num_heads, ff_dim, rate=0.1):\n",
    "        super(Transformer, self).__init__()\n",
    "\n",
    "        self.att = MultiHeadAttention(num_heads=num_heads, key_dim=embed_dim)\n",
    "        self.ffn = keras.Sequential(\n",
    "            [Dense(ff_dim, activation=\"relu\"), Dense(embed_dim),]\n",
    "        )\n",
    "\n",
    "        self.layernorm1 = LayerNormalization(epsilon=1e-6)\n",
    "        self.layernorm2 = LayerNormalization(epsilon=1e-6)\n",
    "\n",
    "        self.dropout1 = Dropout(rate)\n",
    "        self.dropout2 = Dropout(rate)\n",
    "    \n",
    "    def call(self, inputs, training):\n",
    "        attn_output = self.att(inputs, inputs)\n",
    "        attn_output = self.dropout1(attn_output, training=training)\n",
    "\n",
    "        out1 = self.layernorm1(inputs + attn_output)\n",
    "        \n",
    "        ffn_output = self.ffn(out1)\n",
    "        ffn_output = self.dropout2(ffn_output, training=training)\n",
    "        return self.layernorm2(out1 + ffn_output)\n"
   ]
  },
  {
   "cell_type": "code",
   "execution_count": 9,
   "metadata": {},
   "outputs": [
    {
     "name": "stdout",
     "output_type": "stream",
     "text": [
      "Model: \"sequential\"\n",
      "_________________________________________________________________\n",
      " Layer (type)                Output Shape              Param #   \n",
      "=================================================================\n",
      " token_and_position_embeddin  (None, 4, 25)            159375    \n",
      " g (TokenAndPositionEmbeddin                                     \n",
      " g)                                                              \n",
      "                                                                 \n",
      " transformer (Transformer)   (None, 4, 25)             65800     \n",
      "                                                                 \n",
      " dropout_2 (Dropout)         (None, 4, 25)             0         \n",
      "                                                                 \n",
      " transformer_1 (Transformer)  (None, 4, 25)            27175     \n",
      "                                                                 \n",
      " dropout_5 (Dropout)         (None, 4, 25)             0         \n",
      "                                                                 \n",
      " transformer_2 (Transformer)  (None, 4, 25)            14300     \n",
      "                                                                 \n",
      " global_average_pooling1d (G  (None, 25)               0         \n",
      " lobalAveragePooling1D)                                          \n",
      "                                                                 \n",
      " dropout_8 (Dropout)         (None, 25)                0         \n",
      "                                                                 \n",
      " dense_6 (Dense)             (None, 500)               13000     \n",
      "                                                                 \n",
      " dropout_9 (Dropout)         (None, 500)               0         \n",
      "                                                                 \n",
      " dense_7 (Dense)             (None, 6371)              3191871   \n",
      "                                                                 \n",
      "=================================================================\n",
      "Total params: 3,471,521\n",
      "Trainable params: 3,471,521\n",
      "Non-trainable params: 0\n",
      "_________________________________________________________________\n"
     ]
    }
   ],
   "source": [
    "model = Sequential()\n",
    "\n",
    "model.add(Input(shape=(sequence_len,)))\n",
    "\n",
    "model.add(TokenAndPositionEmbedding(sequence_len, vocabulary_size, 25))\n",
    "\n",
    "model.add(Transformer(25, 25, 25))\n",
    "model.add(Dropout(0.2))\n",
    "model.add(Transformer(25, 10, 25))\n",
    "model.add(Dropout(0.2))\n",
    "model.add(Transformer(25, 5, 25))\n",
    "\n",
    "model.add(GlobalAveragePooling1D())\n",
    "\n",
    "model.add(Dropout(0.2))\n",
    "model.add(Dense(500, activation=\"sigmoid\"))\n",
    "model.add(Dropout(0.2))\n",
    "model.add(Dense(vocabulary_size, activation=\"softmax\"))\n",
    "\n",
    "model.compile(\n",
    "    loss='categorical_crossentropy', \n",
    "    optimizer='adam', \n",
    "    metrics=['accuracy'])\n",
    "\n",
    "model.summary()"
   ]
  },
  {
   "cell_type": "code",
   "execution_count": 10,
   "metadata": {},
   "outputs": [
    {
     "name": "stdout",
     "output_type": "stream",
     "text": [
      "Epoch 1/25\n",
      "392/392 [==============================] - 15s 25ms/step - loss: 6.9574 - accuracy: 0.0275\n",
      "Epoch 2/25\n",
      "392/392 [==============================] - 8s 19ms/step - loss: 6.7813 - accuracy: 0.0283\n",
      "Epoch 3/25\n",
      "392/392 [==============================] - 8s 20ms/step - loss: 6.7095 - accuracy: 0.0296\n",
      "Epoch 4/25\n",
      "392/392 [==============================] - 7s 19ms/step - loss: 6.6357 - accuracy: 0.0318\n",
      "Epoch 5/25\n",
      "392/392 [==============================] - 9s 24ms/step - loss: 6.5696 - accuracy: 0.0323\n",
      "Epoch 6/25\n",
      "392/392 [==============================] - 9s 24ms/step - loss: 6.5029 - accuracy: 0.0354\n",
      "Epoch 7/25\n",
      "392/392 [==============================] - 9s 24ms/step - loss: 6.4439 - accuracy: 0.0374\n",
      "Epoch 8/25\n",
      "392/392 [==============================] - 8s 19ms/step - loss: 6.3837 - accuracy: 0.0412\n",
      "Epoch 9/25\n",
      "392/392 [==============================] - 8s 20ms/step - loss: 6.3300 - accuracy: 0.0451\n",
      "Epoch 10/25\n",
      "392/392 [==============================] - 9s 24ms/step - loss: 6.2793 - accuracy: 0.0485\n",
      "Epoch 11/25\n",
      "392/392 [==============================] - 11s 28ms/step - loss: 6.2313 - accuracy: 0.0532\n",
      "Epoch 12/25\n",
      "392/392 [==============================] - 8s 20ms/step - loss: 6.1889 - accuracy: 0.0563\n",
      "Epoch 13/25\n",
      "392/392 [==============================] - 8s 20ms/step - loss: 6.1535 - accuracy: 0.0594\n",
      "Epoch 14/25\n",
      "392/392 [==============================] - 8s 20ms/step - loss: 6.1177 - accuracy: 0.0617\n",
      "Epoch 15/25\n",
      "392/392 [==============================] - 8s 20ms/step - loss: 6.0885 - accuracy: 0.0617\n",
      "Epoch 16/25\n",
      "392/392 [==============================] - 8s 19ms/step - loss: 6.0608 - accuracy: 0.0640\n",
      "Epoch 17/25\n",
      "392/392 [==============================] - 8s 19ms/step - loss: 6.0335 - accuracy: 0.0643\n",
      "Epoch 18/25\n",
      "392/392 [==============================] - 8s 19ms/step - loss: 6.0057 - accuracy: 0.0662\n",
      "Epoch 19/25\n",
      "392/392 [==============================] - 8s 20ms/step - loss: 5.9719 - accuracy: 0.0675\n",
      "Epoch 20/25\n",
      "392/392 [==============================] - 8s 19ms/step - loss: 5.9394 - accuracy: 0.0694\n",
      "Epoch 21/25\n",
      "392/392 [==============================] - 8s 19ms/step - loss: 5.9137 - accuracy: 0.0699\n",
      "Epoch 22/25\n",
      "392/392 [==============================] - 8s 20ms/step - loss: 5.8864 - accuracy: 0.0716\n",
      "Epoch 23/25\n",
      "392/392 [==============================] - 8s 20ms/step - loss: 5.8654 - accuracy: 0.0730\n",
      "Epoch 24/25\n",
      "392/392 [==============================] - 8s 20ms/step - loss: 5.8338 - accuracy: 0.0750\n",
      "Epoch 25/25\n",
      "392/392 [==============================] - 8s 20ms/step - loss: 5.8091 - accuracy: 0.0757\n"
     ]
    }
   ],
   "source": [
    "with tf.device(\"/device:GPU:0\"):\n",
    "    history = model.fit(\n",
    "        train_data, train_labels, batch_size=128, epochs=25\n",
    "    )"
   ]
  },
  {
   "cell_type": "code",
   "execution_count": 11,
   "metadata": {},
   "outputs": [],
   "source": [
    "def generate_text(model, tokenizer, seq_len, seed_text, num_gen_words):\n",
    "    output_text = []\n",
    "    \n",
    "    input_text = seed_text\n",
    "    \n",
    "    for i in range(num_gen_words):\n",
    "        encoded_text = tokenizer.texts_to_sequences([input_text])[0]\n",
    "        pad_encoded = pad_sequences([encoded_text], maxlen=seq_len, truncating='pre')\n",
    "        \n",
    "        predict_x = model.predict(pad_encoded, verbose=0) \n",
    "        pred_word_ind = np.argmax(predict_x, axis=1)[0]\n",
    "\n",
    "        pred_word = tokenizer.index_word[pred_word_ind] \n",
    "        \n",
    "        input_text += ' ' + pred_word\n",
    "        \n",
    "        output_text.append(pred_word)\n",
    "        \n",
    "    return ' '.join(output_text)"
   ]
  },
  {
   "cell_type": "code",
   "execution_count": 12,
   "metadata": {},
   "outputs": [
    {
     "name": "stdout",
     "output_type": "stream",
     "text": [
      "you look liked you\u001b[91m fan i donate me i\u001b[00m\n",
      "------- generated text -------\n",
      "fan i donate me i\n"
     ]
    }
   ],
   "source": [
    "text = 'you look liked you'\n",
    "\n",
    "new_text = generate_text(model, tokenizer, sequence_len, seed_text=text, num_gen_words=5)\n",
    "\n",
    "print(f\"{text}\\033[91m {new_text}\\033[00m\")\n",
    "\n",
    "print(\"------- generated text -------\")\n",
    "print(new_text)"
   ]
  },
  {
   "cell_type": "code",
   "execution_count": 13,
   "metadata": {},
   "outputs": [
    {
     "name": "stdout",
     "output_type": "stream",
     "text": [
      "i really like that\u001b[91m i donate me i donate\u001b[00m\n",
      "i donate me i donate\u001b[91m me i donate me i\u001b[00m\n",
      "me i donate me i\u001b[91m donate me i donate me\u001b[00m\n",
      "donate me i donate me\u001b[91m i donate me i donate\u001b[00m\n",
      "i donate me i donate\u001b[91m me i donate me i\u001b[00m\n",
      "me i donate me i\u001b[91m donate me i donate me\u001b[00m\n",
      "donate me i donate me\u001b[91m i donate me i donate\u001b[00m\n",
      "i donate me i donate\u001b[91m me i donate me i\u001b[00m\n",
      "me i donate me i\u001b[91m donate me i donate me\u001b[00m\n",
      "donate me i donate me\u001b[91m i donate me i donate\u001b[00m\n",
      "i donate me i donate\u001b[91m me i donate me i\u001b[00m\n",
      "me i donate me i\u001b[91m donate me i donate me\u001b[00m\n",
      "donate me i donate me\u001b[91m i donate me i donate\u001b[00m\n"
     ]
    }
   ],
   "source": [
    "previous_text = 'i really like that'\n",
    "\n",
    "for i in range(15):\n",
    "    gen_text = generate_text(model, tokenizer, sequence_len, seed_text=previous_text, num_gen_words=5)\n",
    "\n",
    "    print(f\"{previous_text}\\033[91m {gen_text}\\033[00m\")\n",
    "    previous_text = gen_text"
   ]
  }
 ],
 "metadata": {
  "kernelspec": {
   "display_name": "Python 3",
   "language": "python",
   "name": "python3"
  },
  "language_info": {
   "codemirror_mode": {
    "name": "ipython",
    "version": 3
   },
   "file_extension": ".py",
   "mimetype": "text/x-python",
   "name": "python",
   "nbconvert_exporter": "python",
   "pygments_lexer": "ipython3",
   "version": "3.10.10"
  },
  "orig_nbformat": 4
 },
 "nbformat": 4,
 "nbformat_minor": 2
}
